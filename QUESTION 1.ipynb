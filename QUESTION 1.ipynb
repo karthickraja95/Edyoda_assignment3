{
 "cells": [
  {
   "cell_type": "markdown",
   "id": "d31ffb8e",
   "metadata": {},
   "source": [
    "# Q1: SUM OF NUMBERS IN A LIST"
   ]
  },
  {
   "cell_type": "markdown",
   "id": "f4e54531",
   "metadata": {},
   "source": [
    "# method1: using sum function"
   ]
  },
  {
   "cell_type": "code",
   "execution_count": 1,
   "id": "8ad02fb6",
   "metadata": {},
   "outputs": [
    {
     "name": "stdout",
     "output_type": "stream",
     "text": [
      "sum of all elements in the list is 20\n"
     ]
    }
   ],
   "source": [
    "sample_list=(8,2,3,0,7)\n",
    "\n",
    "total=sum(sample_list)\n",
    "print(\"sum of all elements in the list is\" , total)\n"
   ]
  },
  {
   "cell_type": "markdown",
   "id": "7a916701",
   "metadata": {},
   "source": [
    "# method2: using loops"
   ]
  },
  {
   "cell_type": "code",
   "execution_count": null,
   "id": "b900c02d",
   "metadata": {},
   "outputs": [],
   "source": [
    "sample_list=(8,2,3,0,7)\n",
    "total=0\n",
    "\n",
    "for i in range(0,5):\n",
    "    total=total+sample_list[i]\n",
    "    \n",
    "print(\"sum of all elements in the list is\" , total)\n"
   ]
  }
 ],
 "metadata": {
  "kernelspec": {
   "display_name": "Python 3 (ipykernel)",
   "language": "python",
   "name": "python3"
  },
  "language_info": {
   "codemirror_mode": {
    "name": "ipython",
    "version": 3
   },
   "file_extension": ".py",
   "mimetype": "text/x-python",
   "name": "python",
   "nbconvert_exporter": "python",
   "pygments_lexer": "ipython3",
   "version": "3.10.2"
  }
 },
 "nbformat": 4,
 "nbformat_minor": 5
}
